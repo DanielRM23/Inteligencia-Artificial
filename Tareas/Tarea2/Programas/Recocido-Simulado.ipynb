{
 "cells": [
  {
   "cell_type": "code",
   "execution_count": 1,
   "id": "2d748b86",
   "metadata": {},
   "outputs": [],
   "source": [
    "class Problem:\n",
    "    def __init__(self, initial_state):\n",
    "        self.initial_state = initial_state  # El estado inicial del problema\n",
    "\n",
    "    def initial_state(self):\n",
    "        \"\"\"Devuelve el estado inicial.\"\"\"\n",
    "        return self.initial_state\n",
    "\n",
    "    def successors(self, state):\n",
    "        \"\"\"Genera una lista de sucesores para el estado actual.\n",
    "           Este método debe ser definido según el problema específico.\"\"\"\n",
    "        pass  # Implementa la generación de sucesores según tu problema\n",
    "\n",
    "    def value(self, state):\n",
    "        \"\"\"Calcula el valor (o costo) del estado actual.\n",
    "           Debe ser definido según el problema específico.\"\"\"\n",
    "        pass  # Implementa la función de evaluación para el estado\n"
   ]
  },
  {
   "cell_type": "code",
   "execution_count": 2,
   "id": "08805a85",
   "metadata": {},
   "outputs": [],
   "source": [
    "class Schedule:\n",
    "    def __init__(self, T0, alpha):\n",
    "        self.T0 = T0  # Temperatura inicial\n",
    "        self.alpha = alpha  # Tasa de enfriamiento\n",
    "\n",
    "    def __call__(self, t):\n",
    "        \"\"\"Devuelve la temperatura en el tiempo t.\"\"\"\n",
    "        return self.T0 * (self.alpha ** t)  # Ejemplo: enfriamiento exponencial"
   ]
  },
  {
   "cell_type": "code",
   "execution_count": 2,
   "id": "2758d83a",
   "metadata": {},
   "outputs": [],
   "source": [
    "def simulated_annealing(problem, schedule, max_iterations=1000):\n",
    "    current = problem.initial_state  # Estado inicial\n",
    "    t = 1  # Iniciar el contador de tiempo\n",
    "\n",
    "    while t <= max_iterations:  # Bucle con límite de iteraciones\n",
    "        T = schedule(t)\n",
    "        if T == 0:\n",
    "            return current  # Devolver la mejor solución encontrada\n",
    "\n",
    "        # Selecciona un sucesor aleatorio\n",
    "        successors = problem.successors(current)\n",
    "        next_state = random.choice(successors)\n",
    "\n",
    "        E = problem.value(next_state) - problem.value(current)\n",
    "\n",
    "        if E > 0:  # Si es mejor, lo acepta directamente\n",
    "            current = next_state\n",
    "        else:  # Si es peor, lo acepta con cierta probabilidad\n",
    "            probability = math.exp(E / T)\n",
    "            if random.random() < probability:\n",
    "                current = next_state\n",
    "\n",
    "        t += 1  # Incrementa el tiempo\n",
    "\n",
    "    return current  # Devolver la mejor solución encontrada después de las iteraciones máximas"
   ]
  }
 ],
 "metadata": {
  "kernelspec": {
   "display_name": "Python 3 (ipykernel)",
   "language": "python",
   "name": "python3"
  },
  "language_info": {
   "codemirror_mode": {
    "name": "ipython",
    "version": 3
   },
   "file_extension": ".py",
   "mimetype": "text/x-python",
   "name": "python",
   "nbconvert_exporter": "python",
   "pygments_lexer": "ipython3",
   "version": "3.11.9"
  }
 },
 "nbformat": 4,
 "nbformat_minor": 5
}
