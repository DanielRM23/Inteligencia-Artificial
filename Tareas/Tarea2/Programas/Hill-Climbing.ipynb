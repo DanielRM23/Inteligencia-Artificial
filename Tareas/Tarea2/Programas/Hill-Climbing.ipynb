{
 "cells": [
  {
   "cell_type": "code",
   "execution_count": 1,
   "id": "532c2123",
   "metadata": {},
   "outputs": [],
   "source": [
    "class Problem:\n",
    "    def __init__(self, initial_state):\n",
    "        self.initial_state = initial_state  # El estado inicial del problema\n",
    "\n",
    "    def initial_state(self):\n",
    "        \"\"\"Devuelve el estado inicial.\"\"\"\n",
    "        return self.initial_state\n",
    "\n",
    "    def successors(self, state):\n",
    "        \"\"\"Genera una lista de sucesores para el estado actual.\n",
    "           Este método debe ser definido según el problema específico.\"\"\"\n",
    "        pass  # Implementa la generación de sucesores según tu problema\n",
    "\n",
    "    def value(self, state):\n",
    "        \"\"\"Calcula el valor (o costo) del estado actual.\n",
    "           Debe ser definido según el problema específico.\"\"\"\n",
    "        pass  # Implementa la función de evaluación para el estado\n"
   ]
  },
  {
   "cell_type": "code",
   "execution_count": 55,
   "id": "c82050c6",
   "metadata": {},
   "outputs": [],
   "source": [
    "def hill_climbing(problem, max_iterations=1000):\n",
    "    \n",
    "    # Estado inicial\n",
    "    current = problem.initial_state\n",
    "    \n",
    "    # Valor inicial del bucle\n",
    "    for t in range(max_iterations):  # Bucle con límite de iteraciones\n",
    "        \n",
    "        # Generar sucesores y encontrar el mejor vecino\n",
    "        neighbors = problem.successors(current)\n",
    "        if not neighbors:\n",
    "            break  # Si no hay vecinos, sal del bucle\n",
    "        \n",
    "        # Selecciona el vecino con el mayor valor\n",
    "        neighbor = max(neighbors, key=lambda state: problem.value(state))\n",
    "        \n",
    "        # Si el mejor vecino no es mejor que el estado actual, devuelve el estado actual\n",
    "        if problem.value(neighbor) <= problem.value(current):\n",
    "            return current\n",
    "        \n",
    "        # De lo contrario, actualiza el estado actual al mejor vecino\n",
    "        current = neighbor\n",
    "    \n",
    "    # Si se alcanza el límite de iteraciones, devuelve el último estado\n",
    "    return current"
   ]
  }
 ],
 "metadata": {
  "kernelspec": {
   "display_name": "Python 3 (ipykernel)",
   "language": "python",
   "name": "python3"
  },
  "language_info": {
   "codemirror_mode": {
    "name": "ipython",
    "version": 3
   },
   "file_extension": ".py",
   "mimetype": "text/x-python",
   "name": "python",
   "nbconvert_exporter": "python",
   "pygments_lexer": "ipython3",
   "version": "3.11.9"
  }
 },
 "nbformat": 4,
 "nbformat_minor": 5
}
