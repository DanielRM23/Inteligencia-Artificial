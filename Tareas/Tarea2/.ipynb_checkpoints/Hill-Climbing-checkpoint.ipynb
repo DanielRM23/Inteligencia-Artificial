{
 "cells": [
  {
   "cell_type": "code",
   "execution_count": 1,
   "id": "532c2123",
   "metadata": {},
   "outputs": [],
   "source": [
    "class Problem:\n",
    "    def __init__(self, initial_state):\n",
    "        self.initial_state = initial_state  # El estado inicial del problema\n",
    "\n",
    "    def initial_state(self):\n",
    "        \"\"\"Devuelve el estado inicial.\"\"\"\n",
    "        return self.initial_state\n",
    "\n",
    "    def successors(self, state):\n",
    "        \"\"\"Genera una lista de sucesores para el estado actual.\n",
    "           Este método debe ser definido según el problema específico.\"\"\"\n",
    "        pass  # Implementa la generación de sucesores según tu problema\n",
    "\n",
    "    def value(self, state):\n",
    "        \"\"\"Calcula el valor (o costo) del estado actual.\n",
    "           Debe ser definido según el problema específico.\"\"\"\n",
    "        pass  # Implementa la función de evaluación para el estado\n"
   ]
  },
  {
   "cell_type": "code",
   "execution_count": 55,
   "id": "c82050c6",
   "metadata": {},
   "outputs": [],
   "source": [
    "def hill_climbing(problem, max_iterations=1000):\n",
    "    \n",
    "    # Estado inicial\n",
    "    current = problem.initial_state\n",
    "    \n",
    "    # Valor inicial del bucle\n",
    "    for t in range(max_iterations):  # Bucle con límite de iteraciones\n",
    "        \n",
    "        # Generar sucesores y encontrar el mejor vecino\n",
    "        neighbors = problem.successors(current)\n",
    "        if not neighbors:\n",
    "            break  # Si no hay vecinos, sal del bucle\n",
    "        \n",
    "        # Selecciona el vecino con el mayor valor\n",
    "        neighbor = max(neighbors, key=lambda state: problem.value(state))\n",
    "        \n",
    "        # Si el mejor vecino no es mejor que el estado actual, devuelve el estado actual\n",
    "        if problem.value(neighbor) <= problem.value(current):\n",
    "            return current\n",
    "        \n",
    "        # De lo contrario, actualiza el estado actual al mejor vecino\n",
    "        current = neighbor\n",
    "    \n",
    "    # Si se alcanza el límite de iteraciones, devuelve el último estado\n",
    "    return current"
   ]
  },
  {
   "cell_type": "code",
   "execution_count": 2,
   "id": "34caaa1f",
   "metadata": {},
   "outputs": [],
   "source": [
    "class GraphProblem:\n",
    "    def __init__(self, graph, start, goal):\n",
    "        self.graph = graph  # Grafo representado como un diccionario de vecinos\n",
    "        self.start = start  # Ciudad de inicio\n",
    "        self.goal = goal    # Ciudad objetivo\n",
    "        self.initial_state = start  # Estado inicial\n",
    "\n",
    "    def successors(self, state):\n",
    "        \"\"\"Genera todos los posibles sucesores del estado actual.\"\"\"\n",
    "        neighbors = self.graph[state]  # Vecinos de la ciudad actual\n",
    "        return list(neighbors.keys())  # Devolver las ciudades vecinas como sucesores\n",
    "\n",
    "    def value(self, state):\n",
    "        \"\"\"Calcula el valor del estado actual basado en la heurística.\"\"\"\n",
    "        # La heurística negativa para minimizar la distancia\n",
    "        "
   ]
  },
  {
   "cell_type": "code",
   "execution_count": 5,
   "id": "a979472c",
   "metadata": {},
   "outputs": [],
   "source": [
    "# Daniel Rojo Mata\n",
    "# Inteligencia Artificial, Semestre 2025-I\n",
    "\n",
    "# Problema de Arad a Budapest\n",
    "\n",
    "# Se importa para usar heaps\n",
    "import heapq\n",
    "\n",
    "\n",
    "# Se utiliza un diccionario como estructura de datos para representar la gráfica\n",
    "# diccionario = { ciudad : {vecino : [costo_para_ir_a_vecino, heuristica_ciudad] }}\n",
    "    # Las claves son los nombres de las ciudades.\n",
    "    # Los valores son diccionarios que representan las ciudades vecinas.\n",
    "    # Para cada vecino, la lista contiene dos elementos: el costo (distancia) y la heurística hacia Bucarest.\n",
    "\n",
    "# Gráfica representada como un diccionario de adyacencias\n",
    "# Las heurísticas son las distancias euclideánas entre las ciudades. Éstas fueron obtenidas del libro\n",
    "# Artificial Intelligence: A modern Approach, 3rd Edition, pagina 93.\n",
    "grafica = {\n",
    "    \"Arad\": { \"Zerind\": [75, 374], \"Timisoara\": [118, 329], \"Sibiu\": [140, 253] },\n",
    "    \"Zerind\": { \"Arad\": [75, 366], \"Oradea\": [71, 380] },\n",
    "    \"Oradea\": { \"Zerind\": [71, 374], \"Sibiu\": [151, 253] },\n",
    "    \"Timisoara\": { \"Arad\": [118, 366], \"Lugoj\": [111, 244] },\n",
    "    \"Lugoj\": { \"Timisoara\": [111, 329], \"Mehadia\": [70, 241] },\n",
    "    \"Mehadia\": { \"Lugoj\": [70, 244], \"Drobeta\": [75, 242] },\n",
    "    \"Drobeta\": { \"Mehadia\": [75, 241], \"Craiova\": [120, 160] },\n",
    "    \"Craiova\": { \"Drobeta\": [120, 242], \"Rimnicu Vilcea\": [146, 193], \"Pitesti\": [138, 100] },\n",
    "    \"Sibiu\": { \"Arad\": [140, 366], \"Oradea\": [151, 380], \"Fagaras\": [99, 176], \"Rimnicu Vilcea\": [80, 193] },\n",
    "    \"Rimnicu Vilcea\": { \"Sibiu\": [80, 253], \"Craiova\": [146, 160], \"Pitesti\": [97, 100] },\n",
    "    \"Fagaras\": { \"Sibiu\": [99, 253], \"Bucarest\": [211, 0] },\n",
    "    \"Pitesti\": { \"Rimnicu Vilcea\": [97, 193], \"Craiova\": [138, 160], \"Bucarest\": [101, 0] },\n",
    "    \"Bucarest\": { \"Fagaras\": [211, 176], \"Pitesti\": [101, 100], \"Giurgiu\": [90, 77], \"Urziceni\": [85, 80] },\n",
    "    \"Giurgiu\": { \"Bucarest\": [90, 0] },\n",
    "    \"Urziceni\": { \"Bucarest\": [85, 0], \"Hirsova\": [98, 151], \"Vaslui\": [142, 199] },\n",
    "    \"Hirsova\": { \"Urziceni\": [98, 80], \"Eforie\": [86, 161] },\n",
    "    \"Eforie\": { \"Hirsova\": [86, 151] },\n",
    "    \"Vaslui\": { \"Urziceni\": [142, 80], \"Iasi\": [92, 226] },\n",
    "    \"Iasi\": { \"Vaslui\": [92, 199], \"Neamt\": [87, 234] },\n",
    "    \"Neamt\": { \"Iasi\": [87, 226] }\n",
    "}"
   ]
  },
  {
   "cell_type": "code",
   "execution_count": 22,
   "id": "c8a3e6e2",
   "metadata": {},
   "outputs": [],
   "source": [
    "grafica = GraphProblem(grafica, \"Arad\", \"Bucarest\")"
   ]
  },
  {
   "cell_type": "code",
   "execution_count": 35,
   "id": "8d3c3e97",
   "metadata": {},
   "outputs": [
    {
     "data": {
      "text/plain": [
       "['Zerind', 'Timisoara', 'Sibiu']"
      ]
     },
     "execution_count": 35,
     "metadata": {},
     "output_type": "execute_result"
    }
   ],
   "source": [
    "state = \"Arad\"\n",
    "grafica.successors(\"Arad\")"
   ]
  },
  {
   "cell_type": "code",
   "execution_count": 56,
   "id": "86a7de45",
   "metadata": {},
   "outputs": [
    {
     "data": {
      "text/plain": [
       "75"
      ]
     },
     "execution_count": 56,
     "metadata": {},
     "output_type": "execute_result"
    }
   ],
   "source": [
    "grafica.graph[\"Arad\"][\"Zerind\"][0]"
   ]
  },
  {
   "cell_type": "code",
   "execution_count": 25,
   "id": "6806ea7a",
   "metadata": {},
   "outputs": [
    {
     "data": {
      "text/plain": [
       "['Zerind', 'Timisoara', 'Sibiu']"
      ]
     },
     "execution_count": 25,
     "metadata": {},
     "output_type": "execute_result"
    }
   ],
   "source": [
    "initial_state = grafica.initial_state\n",
    "grafica.successors(initial_state)"
   ]
  }
 ],
 "metadata": {
  "kernelspec": {
   "display_name": "Python 3 (ipykernel)",
   "language": "python",
   "name": "python3"
  },
  "language_info": {
   "codemirror_mode": {
    "name": "ipython",
    "version": 3
   },
   "file_extension": ".py",
   "mimetype": "text/x-python",
   "name": "python",
   "nbconvert_exporter": "python",
   "pygments_lexer": "ipython3",
   "version": "3.11.9"
  }
 },
 "nbformat": 4,
 "nbformat_minor": 5
}
