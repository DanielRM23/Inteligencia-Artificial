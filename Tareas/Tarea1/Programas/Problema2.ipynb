{
 "cells": [
  {
   "cell_type": "code",
   "execution_count": 1,
   "id": "d48d31c5",
   "metadata": {},
   "outputs": [],
   "source": [
    "import pandas as pd\n",
    "import heapq"
   ]
  },
  {
   "cell_type": "code",
   "execution_count": 143,
   "id": "c5405b43",
   "metadata": {},
   "outputs": [],
   "source": [
    "# Se importan los datos\n",
    "arcihvo = \"ks_19_0\"\n",
    "data = pd.read_csv(arcihvo, \n",
    "                  header = None,\n",
    "                  sep = \" \",\n",
    "                  names = ['costs', 'weights']\n",
    "                  )\n",
    "\n",
    "# Quito el primer renglón\n",
    "data = data.drop(index=0).reset_index(drop=True)\n",
    "\n",
    "# Resetear el índice y convertirlo en una columna para poder diferenciar a los elementos \n",
    "data = data.reset_index(drop=False)\n",
    "# Cambio el nombre de la columna\n",
    "data = data.rename (columns = {'index' : 'object'} )\n",
    "\n",
    "# Se calcula la heurística para cada objeto, siendo ésta: h = weight/cost\n",
    "data['h'] = data['costs'] / data['weights']"
   ]
  },
  {
   "cell_type": "code",
   "execution_count": 149,
   "id": "f0368922",
   "metadata": {},
   "outputs": [],
   "source": [
    "# Crear un diccionario donde key es el objeto y value es una tupla (cost, weight, h_value)\n",
    "diccionario_original = {\n",
    "    obj: (cost, weight, h_value)\n",
    "    for obj, cost, weight, h_value in zip(data['object'], data['costs'], data['weights'], data['h'])\n",
    "}\n",
    "\n",
    "# Ordenar el diccionario por heurísticas en orden descendente\n",
    "diccionario_ordenado = dict(sorted(diccionario_original.items(),\n",
    "                                   key=lambda item: item[1][1],\n",
    "                                   reverse=True))"
   ]
  },
  {
   "cell_type": "code",
   "execution_count": 151,
   "id": "60ee412c",
   "metadata": {},
   "outputs": [
    {
     "name": "stdout",
     "output_type": "stream",
     "text": [
      "Items seleccionados: {3: (4136, 10372), 13: (3878, 9656), 2: (2945, 7390), 4: (1107, 3114)}\n",
      "Valor total: 12066\n",
      "Peso total: 30532\n"
     ]
    }
   ],
   "source": [
    "# Límite de peso\n",
    "weight_limit = 31181\n",
    "\n",
    "# Aplicar enfoque greedy\n",
    "selected_items = {}\n",
    "total_value = 0\n",
    "total_weight = 0\n",
    "\n",
    "for item_id, (cost, weight, h_value) in diccionario_ordenado.items():\n",
    "    if total_weight + weight <= weight_limit:\n",
    "        selected_items[item_id] = (cost, weight)\n",
    "        total_value += cost\n",
    "        total_weight += weight\n",
    "    else:\n",
    "        continue\n",
    "\n",
    "# Mostrar resultados\n",
    "print(\"Items seleccionados:\", selected_items)\n",
    "print(\"Valor total:\", total_value)\n",
    "print(\"Peso total:\", total_weight)"
   ]
  },
  {
   "cell_type": "code",
   "execution_count": null,
   "id": "a03bba7a",
   "metadata": {},
   "outputs": [],
   "source": []
  }
 ],
 "metadata": {
  "kernelspec": {
   "display_name": "Python 3 (ipykernel)",
   "language": "python",
   "name": "python3"
  },
  "language_info": {
   "codemirror_mode": {
    "name": "ipython",
    "version": 3
   },
   "file_extension": ".py",
   "mimetype": "text/x-python",
   "name": "python",
   "nbconvert_exporter": "python",
   "pygments_lexer": "ipython3",
   "version": "3.11.9"
  }
 },
 "nbformat": 4,
 "nbformat_minor": 5
}
